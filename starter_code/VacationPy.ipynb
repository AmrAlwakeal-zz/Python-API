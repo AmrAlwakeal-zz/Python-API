{
 "cells": [
  {
   "cell_type": "markdown",
   "metadata": {},
   "source": [
    "# VacationPy\n",
    "----\n",
    "\n",
    "#### Note\n",
    "* Instructions have been included for each segment. You do not have to follow them exactly, but they are included to help you think through the steps."
   ]
  },
  {
   "cell_type": "code",
   "execution_count": 1,
   "metadata": {},
   "outputs": [],
   "source": [
    "# Dependencies and Setup\n",
    "import matplotlib.pyplot as plt\n",
    "import pandas as pd\n",
    "import numpy as np\n",
    "import requests\n",
    "import gmaps\n",
    "import os\n",
    "\n",
    "# Import API key\n",
    "from api_keys import g_key"
   ]
  },
  {
   "cell_type": "markdown",
   "metadata": {},
   "source": [
    "### Store Part I results into DataFrame\n",
    "* Load the csv exported in Part I to a DataFrame"
   ]
  },
  {
   "cell_type": "code",
   "execution_count": 2,
   "metadata": {},
   "outputs": [
    {
     "name": "stdout",
     "output_type": "stream",
     "text": [
      "<class 'pandas.core.frame.DataFrame'>\n",
      "Int64Index: 544 entries, 0 to 547\n",
      "Data columns (total 10 columns):\n",
      " #   Column      Non-Null Count  Dtype  \n",
      "---  ------      --------------  -----  \n",
      " 0   City_ID     544 non-null    int64  \n",
      " 1   City        544 non-null    object \n",
      " 2   Cloudiness  544 non-null    int64  \n",
      " 3   Country     544 non-null    object \n",
      " 4   Date        544 non-null    int64  \n",
      " 5   Humidity    544 non-null    int64  \n",
      " 6   Lat         544 non-null    float64\n",
      " 7   Lng         544 non-null    float64\n",
      " 8   Max Temp    544 non-null    float64\n",
      " 9   Wind Speed  544 non-null    float64\n",
      "dtypes: float64(4), int64(4), object(2)\n",
      "memory usage: 46.8+ KB\n"
     ]
    }
   ],
   "source": [
    "file = \"/users/amralwakeal/Desktop/Course/untitled_folder/Homework/Homework/Python_API/output_data/cities.csv\"\n",
    "city = pd.read_csv(file)\n",
    "city.dropna(inplace = True) \n",
    "city.info(5)\n"
   ]
  },
  {
   "cell_type": "markdown",
   "metadata": {},
   "source": [
    "### Humidity Heatmap\n",
    "* Configure gmaps.\n",
    "* Use the Lat and Lng as locations and Humidity as the weight.\n",
    "* Add Heatmap layer to map."
   ]
  },
  {
   "cell_type": "code",
   "execution_count": 3,
   "metadata": {},
   "outputs": [
    {
     "data": {
      "application/vnd.jupyter.widget-view+json": {
       "model_id": "2598c4062a8d4af696b85fa3ccab4d47",
       "version_major": 2,
       "version_minor": 0
      },
      "text/plain": [
       "Figure(layout=FigureLayout(height='420px'))"
      ]
     },
     "metadata": {},
     "output_type": "display_data"
    }
   ],
   "source": [
    "# locations\n",
    "locations = city[[\"Lat\", \"Lng\"]]\n",
    "\n",
    "# Customize the size of the figure\n",
    "figure_layout = {\n",
    "    'width': '400px',\n",
    "    'height': '300px',\n",
    "    'border': '1px solid black',\n",
    "    'padding': '1px',\n",
    "    'margin': '0 auto 0 auto'\n",
    "}\n",
    "fig = gmaps.figure(layout=figure_layout)\n",
    "\n",
    "# Gmap configuration\n",
    "\n",
    "gmaps.configure(api_key=g_key)\n",
    "\n",
    "# Heat map and and heatmap layer \n",
    "fig = gmaps.figure()\n",
    "\n",
    "\n",
    "\n",
    "# create layer \n",
    "heat_layer = gmaps.heatmap_layer(locations, weights=city['Humidity'], dissipating=False, max_intensity=100,\n",
    "                                 point_radius=1)\n",
    "\n",
    "fig.add_layer(heat_layer)\n",
    "\n",
    "# Add the layer to the map\n",
    "\n",
    "fig \n",
    "\n",
    "\n"
   ]
  },
  {
   "cell_type": "code",
   "execution_count": 4,
   "metadata": {},
   "outputs": [
    {
     "name": "stdout",
     "output_type": "stream",
     "text": [
      "<class 'pandas.core.frame.DataFrame'>\n",
      "Int64Index: 57 entries, 3 to 545\n",
      "Data columns (total 10 columns):\n",
      " #   Column      Non-Null Count  Dtype  \n",
      "---  ------      --------------  -----  \n",
      " 0   City_ID     57 non-null     int64  \n",
      " 1   City        57 non-null     object \n",
      " 2   Cloudiness  57 non-null     int64  \n",
      " 3   Country     57 non-null     object \n",
      " 4   Date        57 non-null     int64  \n",
      " 5   Humidity    57 non-null     int64  \n",
      " 6   Lat         57 non-null     float64\n",
      " 7   Lng         57 non-null     float64\n",
      " 8   Max Temp    57 non-null     float64\n",
      " 9   Wind Speed  57 non-null     float64\n",
      "dtypes: float64(4), int64(4), object(2)\n",
      "memory usage: 4.9+ KB\n"
     ]
    }
   ],
   "source": [
    "ideal_df = pd.DataFrame(city[(city['Max Temp'] > 70) | (city['Max Temp'] < 80)])\n",
    "ideal_wind = pd.DataFrame(ideal_df[(ideal_df['Wind Speed'] < 10) & (ideal_df['Cloudiness'] == 0)])\n",
    "ideal_wind.info()"
   ]
  },
  {
   "cell_type": "markdown",
   "metadata": {},
   "source": [
    "### Create new DataFrame fitting weather criteria\n",
    "* Narrow down the cities to fit weather conditions.\n",
    "* Drop any rows will null values."
   ]
  },
  {
   "cell_type": "code",
   "execution_count": 5,
   "metadata": {},
   "outputs": [],
   "source": [
    "for index, row in ideal_wind.iterrows():\n",
    "    # get lat, lng from df\n",
    "    lat = row[\"Lat\"]\n",
    "    lng = row[\"Lng\"]\n",
    "\n",
    "    # change location each iteration while leaving original params in place\n",
    "    location = f\"{lat},{lng}\"\n",
    "    target_coordinates = location\n",
    "    target_radius = 5000\n",
    "    target_type = \"hotel\"\n",
    "    params = {\n",
    "    \"location\": target_coordinates,\n",
    "    \"radius\": target_radius,\n",
    "    \"type\": target_type,\n",
    "    \"key\": g_key\n",
    "}\n",
    "    \n",
    "\n",
    "    base_url = \"https://maps.googleapis.com/maps/api/place/nearbysearch/json\"\n",
    "\n",
    "    # make request and print url\n",
    "    name_address = requests.get(base_url, params=params)\n",
    "\n",
    "    #print the name_address url\n",
    "    \n",
    "\n",
    "    # convert to json\n",
    "    name_address = name_address.json()\n",
    "    # print(json.dumps(name_address, indent=4, sort_keys=True))\n",
    "\n",
    "    # Since some data may be missing we incorporate a try-except to skip any that are missing a data point.\n",
    "    try:\n",
    "        ideal_wind.loc[index, \"Hotel Name\"] = name_address[\"results\"][0][\"name\"]\n",
    "        \n",
    "    except (KeyError, IndexError):\n",
    "        print(\"Missing field/result... skipping.\")"
   ]
  },
  {
   "cell_type": "code",
   "execution_count": 6,
   "metadata": {},
   "outputs": [
    {
     "data": {
      "text/html": [
       "<div>\n",
       "<style scoped>\n",
       "    .dataframe tbody tr th:only-of-type {\n",
       "        vertical-align: middle;\n",
       "    }\n",
       "\n",
       "    .dataframe tbody tr th {\n",
       "        vertical-align: top;\n",
       "    }\n",
       "\n",
       "    .dataframe thead th {\n",
       "        text-align: right;\n",
       "    }\n",
       "</style>\n",
       "<table border=\"1\" class=\"dataframe\">\n",
       "  <thead>\n",
       "    <tr style=\"text-align: right;\">\n",
       "      <th></th>\n",
       "      <th>City_ID</th>\n",
       "      <th>Cloudiness</th>\n",
       "      <th>Date</th>\n",
       "      <th>Humidity</th>\n",
       "      <th>Lat</th>\n",
       "      <th>Lng</th>\n",
       "      <th>Max Temp</th>\n",
       "      <th>Wind Speed</th>\n",
       "    </tr>\n",
       "  </thead>\n",
       "  <tbody>\n",
       "    <tr>\n",
       "      <th>count</th>\n",
       "      <td>57.000000</td>\n",
       "      <td>57.0</td>\n",
       "      <td>5.700000e+01</td>\n",
       "      <td>57.000000</td>\n",
       "      <td>57.000000</td>\n",
       "      <td>57.000000</td>\n",
       "      <td>57.000000</td>\n",
       "      <td>57.000000</td>\n",
       "    </tr>\n",
       "    <tr>\n",
       "      <th>mean</th>\n",
       "      <td>268.859649</td>\n",
       "      <td>0.0</td>\n",
       "      <td>1.558379e+09</td>\n",
       "      <td>58.070175</td>\n",
       "      <td>22.411930</td>\n",
       "      <td>56.826491</td>\n",
       "      <td>59.631053</td>\n",
       "      <td>5.920877</td>\n",
       "    </tr>\n",
       "    <tr>\n",
       "      <th>std</th>\n",
       "      <td>165.063888</td>\n",
       "      <td>0.0</td>\n",
       "      <td>7.682837e+01</td>\n",
       "      <td>21.817309</td>\n",
       "      <td>37.701333</td>\n",
       "      <td>74.926006</td>\n",
       "      <td>19.741257</td>\n",
       "      <td>2.415585</td>\n",
       "    </tr>\n",
       "    <tr>\n",
       "      <th>min</th>\n",
       "      <td>3.000000</td>\n",
       "      <td>0.0</td>\n",
       "      <td>1.558378e+09</td>\n",
       "      <td>11.000000</td>\n",
       "      <td>-45.580000</td>\n",
       "      <td>-105.250000</td>\n",
       "      <td>4.920000</td>\n",
       "      <td>0.780000</td>\n",
       "    </tr>\n",
       "    <tr>\n",
       "      <th>25%</th>\n",
       "      <td>139.000000</td>\n",
       "      <td>0.0</td>\n",
       "      <td>1.558379e+09</td>\n",
       "      <td>44.000000</td>\n",
       "      <td>-20.630000</td>\n",
       "      <td>5.880000</td>\n",
       "      <td>48.200000</td>\n",
       "      <td>4.470000</td>\n",
       "    </tr>\n",
       "    <tr>\n",
       "      <th>50%</th>\n",
       "      <td>259.000000</td>\n",
       "      <td>0.0</td>\n",
       "      <td>1.558379e+09</td>\n",
       "      <td>59.000000</td>\n",
       "      <td>35.170000</td>\n",
       "      <td>59.220000</td>\n",
       "      <td>62.600000</td>\n",
       "      <td>6.200000</td>\n",
       "    </tr>\n",
       "    <tr>\n",
       "      <th>75%</th>\n",
       "      <td>416.000000</td>\n",
       "      <td>0.0</td>\n",
       "      <td>1.558379e+09</td>\n",
       "      <td>72.000000</td>\n",
       "      <td>52.210000</td>\n",
       "      <td>113.300000</td>\n",
       "      <td>72.240000</td>\n",
       "      <td>8.050000</td>\n",
       "    </tr>\n",
       "    <tr>\n",
       "      <th>max</th>\n",
       "      <td>545.000000</td>\n",
       "      <td>0.0</td>\n",
       "      <td>1.558379e+09</td>\n",
       "      <td>93.000000</td>\n",
       "      <td>71.970000</td>\n",
       "      <td>178.420000</td>\n",
       "      <td>94.200000</td>\n",
       "      <td>9.440000</td>\n",
       "    </tr>\n",
       "  </tbody>\n",
       "</table>\n",
       "</div>"
      ],
      "text/plain": [
       "          City_ID  Cloudiness          Date   Humidity        Lat         Lng  \\\n",
       "count   57.000000        57.0  5.700000e+01  57.000000  57.000000   57.000000   \n",
       "mean   268.859649         0.0  1.558379e+09  58.070175  22.411930   56.826491   \n",
       "std    165.063888         0.0  7.682837e+01  21.817309  37.701333   74.926006   \n",
       "min      3.000000         0.0  1.558378e+09  11.000000 -45.580000 -105.250000   \n",
       "25%    139.000000         0.0  1.558379e+09  44.000000 -20.630000    5.880000   \n",
       "50%    259.000000         0.0  1.558379e+09  59.000000  35.170000   59.220000   \n",
       "75%    416.000000         0.0  1.558379e+09  72.000000  52.210000  113.300000   \n",
       "max    545.000000         0.0  1.558379e+09  93.000000  71.970000  178.420000   \n",
       "\n",
       "        Max Temp  Wind Speed  \n",
       "count  57.000000   57.000000  \n",
       "mean   59.631053    5.920877  \n",
       "std    19.741257    2.415585  \n",
       "min     4.920000    0.780000  \n",
       "25%    48.200000    4.470000  \n",
       "50%    62.600000    6.200000  \n",
       "75%    72.240000    8.050000  \n",
       "max    94.200000    9.440000  "
      ]
     },
     "execution_count": 6,
     "metadata": {},
     "output_type": "execute_result"
    }
   ],
   "source": [
    "ideal_wind.describe()"
   ]
  },
  {
   "cell_type": "markdown",
   "metadata": {},
   "source": [
    "### Hotel Map\n",
    "* Store into variable named `hotel_df`.\n",
    "* Add a \"Hotel Name\" column to the DataFrame.\n",
    "* Set parameters to search for hotels with 5000 meters.\n",
    "* Hit the Google Places API for each city's coordinates.\n",
    "* Store the first Hotel result into the DataFrame.\n",
    "* Plot markers on top of the heatmap."
   ]
  },
  {
   "cell_type": "code",
   "execution_count": 7,
   "metadata": {},
   "outputs": [
    {
     "name": "stdout",
     "output_type": "stream",
     "text": [
      "<class 'pandas.core.frame.DataFrame'>\n",
      "Int64Index: 57 entries, 3 to 545\n",
      "Data columns (total 11 columns):\n",
      " #   Column      Non-Null Count  Dtype  \n",
      "---  ------      --------------  -----  \n",
      " 0   City_ID     57 non-null     int64  \n",
      " 1   City        57 non-null     object \n",
      " 2   Cloudiness  57 non-null     int64  \n",
      " 3   Country     57 non-null     object \n",
      " 4   Date        57 non-null     int64  \n",
      " 5   Humidity    57 non-null     int64  \n",
      " 6   Lat         57 non-null     float64\n",
      " 7   Lng         57 non-null     float64\n",
      " 8   Max Temp    57 non-null     float64\n",
      " 9   Wind Speed  57 non-null     float64\n",
      " 10  Hotel Name  57 non-null     object \n",
      "dtypes: float64(4), int64(4), object(3)\n",
      "memory usage: 7.8+ KB\n"
     ]
    }
   ],
   "source": [
    "hotel_df = ideal_wind\n",
    "hotel_df.info()"
   ]
  },
  {
   "cell_type": "code",
   "execution_count": null,
   "metadata": {},
   "outputs": [],
   "source": []
  },
  {
   "cell_type": "code",
   "execution_count": 8,
   "metadata": {},
   "outputs": [],
   "source": [
    "# NOTE: Do not change any of the code in this cell\n",
    "\n",
    "# Using the template add the hotel marks to the heatmap\n",
    "info_box_template = \"\"\"\n",
    "<dl>\n",
    "<dt>Name</dt><dd>{Hotel Name}</dd>\n",
    "<dt>City</dt><dd>{City}</dd>\n",
    "<dt>Country</dt><dd>{Country}</dd>\n",
    "</dl>\n",
    "\"\"\"\n",
    "# Store the DataFrame Row\n",
    "# NOTE: be sure to update with your DataFrame name\n",
    "hotel_info = [info_box_template.format(**row) for index, row in hotel_df.iterrows()]\n"
   ]
  },
  {
   "cell_type": "code",
   "execution_count": 9,
   "metadata": {},
   "outputs": [
    {
     "data": {
      "application/vnd.jupyter.widget-view+json": {
       "model_id": "01891983907041b68dbec823d0398a31",
       "version_major": 2,
       "version_minor": 0
      },
      "text/plain": [
       "Figure(layout=FigureLayout(height='420px'))"
      ]
     },
     "metadata": {},
     "output_type": "display_data"
    }
   ],
   "source": [
    "hotel_locations = hotel_df[[\"Lat\", \"Lng\"]]\n",
    "\n",
    "heatmap_layer = gmaps.heatmap_layer(\n",
    "    hotel_locations, max_intensity=30, point_radius=3.0)\n",
    "\n",
    "#heat_layer = gmaps.symbol_layer(hotel_locations, fill_color='green', stroke_color='green', scale=2)\n",
    "\n",
    "# Add marker layer ontop of heat map\n",
    "marker_layer = gmaps.marker_layer(hotel_locations, info_box_content=hotel_info)\n",
    "\n",
    "fig = gmaps.figure()\n",
    "#fig.add_layer(marker_layer)\n",
    "\n",
    "fig.add_layer(heatmap_layer)\n",
    "\n",
    "fig.add_layer(marker_layer)\n",
    "fig\n",
    "\n",
    "# Display figure\n"
   ]
  },
  {
   "cell_type": "code",
   "execution_count": null,
   "metadata": {},
   "outputs": [],
   "source": []
  }
 ],
 "metadata": {
  "kernelspec": {
   "display_name": "Python 3",
   "language": "python",
   "name": "python3"
  },
  "language_info": {
   "codemirror_mode": {
    "name": "ipython",
    "version": 3
   },
   "file_extension": ".py",
   "mimetype": "text/x-python",
   "name": "python",
   "nbconvert_exporter": "python",
   "pygments_lexer": "ipython3",
   "version": "3.7.9"
  },
  "latex_envs": {
   "LaTeX_envs_menu_present": true,
   "autoclose": false,
   "autocomplete": true,
   "bibliofile": "biblio.bib",
   "cite_by": "apalike",
   "current_citInitial": 1,
   "eqLabelWithNumbers": true,
   "eqNumInitial": 1,
   "hotkeys": {
    "equation": "Ctrl-E",
    "itemize": "Ctrl-I"
   },
   "labels_anchors": false,
   "latex_user_defs": false,
   "report_style_numbering": false,
   "user_envs_cfg": false
  }
 },
 "nbformat": 4,
 "nbformat_minor": 2
}
